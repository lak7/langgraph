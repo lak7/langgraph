{
 "cells": [
  {
   "cell_type": "code",
   "execution_count": 2,
   "id": "d63478cb",
   "metadata": {},
   "outputs": [],
   "source": [
    "from typing import TypedDict\n",
    "from langgraph.graph import StateGraph, START, END"
   ]
  },
  {
   "cell_type": "code",
   "execution_count": 3,
   "id": "f733dc4a",
   "metadata": {},
   "outputs": [],
   "source": [
    "class AgentState(TypedDict):\n",
    "    num1: int\n",
    "    num2: int\n",
    "    operation: str\n",
    "    result: int"
   ]
  },
  {
   "cell_type": "code",
   "execution_count": 11,
   "id": "49dd107e",
   "metadata": {},
   "outputs": [],
   "source": [
    "def add_numbers(state: AgentState) -> AgentState:\n",
    "    \"\"\"This node adds two numbers\"\"\"\n",
    "    state[\"result\"] = state[\"num1\"] + state[\"num2\"]\n",
    "    return state\n",
    "\n",
    "def subtract_numbers(state: AgentState) -> AgentState:\n",
    "    \"\"\"This node subtracts two numbers\"\"\"\n",
    "    state[\"result\"] = state[\"num1\"] - state[\"num2\"]\n",
    "    return state\n",
    "\n",
    "def next_node_decider(state: AgentState) -> str:\n",
    "    \"\"\"This node decides which node to go to next\"\"\"\n",
    "    if state[\"operation\"] == \"add\" or state[\"operation\"] == \"+\":\n",
    "        return \"add_numbers\"\n",
    "    elif state[\"operation\"] == \"subtract\" or state[\"operation\"] == \"-\":\n",
    "        return \"subtract_numbers\"\n",
    "    else:\n",
    "        return \"add_numbers\"\n",
    "    \n"
   ]
  },
  {
   "cell_type": "code",
   "execution_count": 12,
   "id": "cbeaa5d4",
   "metadata": {},
   "outputs": [],
   "source": [
    "graph = StateGraph(AgentState)\n",
    "graph.add_node(\"add_numbers\", add_numbers)\n",
    "graph.add_node(\"subtract_numbers\", subtract_numbers)\n",
    "graph.add_node(\"decider\", lambda state: state)\n",
    "\n",
    "graph.add_edge(START, \"decider\")\n",
    "graph.add_conditional_edges(\"decider\", next_node_decider, {\n",
    "    \"add_numbers\": \"add_numbers\",\n",
    "    \"subtract_numbers\": \"subtract_numbers\",\n",
    "})\n",
    "\n",
    "graph.add_edge(\"add_numbers\", END)\n",
    "graph.add_edge(\"subtract_numbers\", END)\n",
    "\n",
    "app = graph.compile()\n"
   ]
  },
  {
   "cell_type": "code",
   "execution_count": 17,
   "id": "67b809f8",
   "metadata": {},
   "outputs": [
    {
     "data": {
      "text/plain": [
       "25"
      ]
     },
     "execution_count": 17,
     "metadata": {},
     "output_type": "execute_result"
    }
   ],
   "source": [
    "result = app.invoke({\"num1\": 20, \"num2\": 5, \"operation\": \"+\", \"result\": 0})\n",
    "\n",
    "result[\"result\"]"
   ]
  },
  {
   "cell_type": "code",
   "execution_count": null,
   "id": "110e0acd",
   "metadata": {},
   "outputs": [],
   "source": []
  }
 ],
 "metadata": {
  "kernelspec": {
   "display_name": ".venv",
   "language": "python",
   "name": "python3"
  },
  "language_info": {
   "codemirror_mode": {
    "name": "ipython",
    "version": 3
   },
   "file_extension": ".py",
   "mimetype": "text/x-python",
   "name": "python",
   "nbconvert_exporter": "python",
   "pygments_lexer": "ipython3",
   "version": "3.13.5"
  }
 },
 "nbformat": 4,
 "nbformat_minor": 5
}
